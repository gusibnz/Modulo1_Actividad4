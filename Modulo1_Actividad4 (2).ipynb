{
  "nbformat": 4,
  "nbformat_minor": 0,
  "metadata": {
    "colab": {
      "name": "Modulo1_Actividad4.ipynb",
      "provenance": [],
      "collapsed_sections": []
    },
    "kernelspec": {
      "name": "python3",
      "display_name": "Python 3"
    },
    "language_info": {
      "name": "python"
    }
  },
  "cells": [
    {
      "cell_type": "markdown",
      "source": [
        "# **Modulo 4 Actividad 1**\n",
        "#### Equipo:\n",
        "##### Emilio Carranza Ávila  \n",
        "##### Gustavo Ibáñez Sosa  \n",
        "##### Gabriela Lozano Orozco  \n",
        "##### Karen Manguart Páez  "
      ],
      "metadata": {
        "id": "aXaUhIxeAImD"
      }
    },
    {
      "cell_type": "code",
      "source": [
        "pip install gplearn"
      ],
      "metadata": {
        "id": "T7FMbOpuU6In"
      },
      "execution_count": null,
      "outputs": []
    },
    {
      "cell_type": "code",
      "execution_count": null,
      "metadata": {
        "id": "CG9YdNwRUHnQ"
      },
      "outputs": [],
      "source": [
        "from gplearn.genetic import SymbolicTransformer\n",
        "from sklearn.utils import check_random_state\n",
        "from sklearn.datasets import load_boston\n",
        "from sklearn.linear_model import Ridge\n",
        "\n",
        "import numpy as np\n"
      ]
    },
    {
      "cell_type": "code",
      "source": [
        "rng = check_random_state(0)\n",
        "boston = load_boston()\n",
        "perm = rng.permutation(boston.target.size)\n",
        "boston.data = boston.data[perm]\n",
        "boston.target = boston.target[perm]"
      ],
      "metadata": {
        "id": "QaaqAT0OVADO"
      },
      "execution_count": null,
      "outputs": []
    },
    {
      "cell_type": "code",
      "source": [
        "est = Ridge()\n",
        "est.fit(boston.data[:300, :], boston.target[:300])\n",
        "print(est.score(boston.data[300:, :], boston.target[300:]))"
      ],
      "metadata": {
        "id": "i1N-CryDVPEN"
      },
      "execution_count": null,
      "outputs": []
    },
    {
      "cell_type": "code",
      "source": [
        "function_set = ['add', 'sub', 'mul', 'div',\n",
        "                'sqrt', 'log', 'abs', 'neg', 'inv',\n",
        "                'max', 'min']\n",
        "gp = SymbolicTransformer(generations=20, population_size=2000,\n",
        "                         hall_of_fame=100, n_components=10,\n",
        "                         function_set=function_set,\n",
        "                         parsimony_coefficient=0.0005,\n",
        "                         max_samples=0.9, verbose=1,\n",
        "                         random_state=0, n_jobs=3)\n",
        "gp.fit(boston.data[:300, :], boston.target[:300])"
      ],
      "metadata": {
        "id": "FFf0Lb6-WU59"
      },
      "execution_count": null,
      "outputs": []
    },
    {
      "cell_type": "code",
      "source": [
        "gp"
      ],
      "metadata": {
        "id": "dGDQz7Y-y8l5"
      },
      "execution_count": null,
      "outputs": []
    },
    {
      "cell_type": "code",
      "source": [
        "gp_features = gp.transform(boston.data)\n",
        "new_boston = np.hstack((boston.data, gp_features))"
      ],
      "metadata": {
        "id": "gmdDe9AfWwIz"
      },
      "execution_count": null,
      "outputs": []
    },
    {
      "cell_type": "code",
      "source": [
        "est = Ridge()\n",
        "est.fit(new_boston[:300, :], boston.target[:300])\n",
        "print(est.score(new_boston[300:, :], boston.target[300:]))"
      ],
      "metadata": {
        "id": "35iMQwfLW4d8"
      },
      "execution_count": null,
      "outputs": []
    },
    {
      "cell_type": "markdown",
      "source": [
        "**Symbolic Transformation** genera distintos ajustes por medio de un algoritmo genético, lo que hace que nuestras opciones de ajuste vengan de un proceso de \"evolución\" el cual podemos controlar con los distintos parametros, como el número de generaciones, los individuos que se copian a las siguientes generaciones, el porcentaje de mutaciones que tenemos, etc... Este proceso permite que los datos tengan una gran variedad de opciones de ajuste para elegir. Nos permite explorar muchas opciones de ajuste en poco tiempo y poder descartar rapidamente aquellas que no son buenos ajustes. Además de que el modificar los parámetros nos permite buscar distintos resultados y encontrar mejores resultados.\n",
        "\n"
      ],
      "metadata": {
        "id": "qSvZL6Wc2N5g"
      }
    }
  ]
}